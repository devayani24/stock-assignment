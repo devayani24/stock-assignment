{
  "nbformat": 4,
  "nbformat_minor": 0,
  "metadata": {
    "colab": {
      "name": "Untitled1.ipynb",
      "provenance": []
    },
    "kernelspec": {
      "name": "python3",
      "display_name": "Python 3"
    },
    "language_info": {
      "name": "python"
    }
  },
  "cells": [
    {
      "cell_type": "code",
      "metadata": {
        "id": "CPlgRJbpOooY"
      },
      "source": [
        "!pip install yfinance"
      ],
      "execution_count": null,
      "outputs": []
    },
    {
      "cell_type": "code",
      "metadata": {
        "id": "j10lgcvhOdZc"
      },
      "source": [
        "import pandas as pd\n",
        "import yfinance as yf"
      ],
      "execution_count": 1,
      "outputs": []
    },
    {
      "cell_type": "code",
      "metadata": {
        "colab": {
          "base_uri": "https://localhost:8080/",
          "height": 204
        },
        "id": "udJks3cGOzrn",
        "outputId": "3f0e8a90-5943-47e0-dba4-76f855f96571"
      },
      "source": [
        "data=pd.read_csv('/content/drive/MyDrive/List of Stocks case study (1).csv')\n",
        "data.head()"
      ],
      "execution_count": 2,
      "outputs": [
        {
          "output_type": "execute_result",
          "data": {
            "text/html": [
              "<div>\n",
              "<style scoped>\n",
              "    .dataframe tbody tr th:only-of-type {\n",
              "        vertical-align: middle;\n",
              "    }\n",
              "\n",
              "    .dataframe tbody tr th {\n",
              "        vertical-align: top;\n",
              "    }\n",
              "\n",
              "    .dataframe thead th {\n",
              "        text-align: right;\n",
              "    }\n",
              "</style>\n",
              "<table border=\"1\" class=\"dataframe\">\n",
              "  <thead>\n",
              "    <tr style=\"text-align: right;\">\n",
              "      <th></th>\n",
              "      <th>Stock Name</th>\n",
              "      <th>SYMBOL</th>\n",
              "    </tr>\n",
              "  </thead>\n",
              "  <tbody>\n",
              "    <tr>\n",
              "      <th>0</th>\n",
              "      <td>ACC LIMITED</td>\n",
              "      <td>ACC</td>\n",
              "    </tr>\n",
              "    <tr>\n",
              "      <th>1</th>\n",
              "      <td>ADANI PORT &amp; SEZ LTD</td>\n",
              "      <td>ADANIPORTS</td>\n",
              "    </tr>\n",
              "    <tr>\n",
              "      <th>2</th>\n",
              "      <td>ADANI ENTERPRISES LIMITED</td>\n",
              "      <td>ADANIENT</td>\n",
              "    </tr>\n",
              "    <tr>\n",
              "      <th>3</th>\n",
              "      <td>ADANI POWER LTD</td>\n",
              "      <td>ADANIPOWER</td>\n",
              "    </tr>\n",
              "    <tr>\n",
              "      <th>4</th>\n",
              "      <td>AMBUJA CEMENTS LTD</td>\n",
              "      <td>AMBUJACEM</td>\n",
              "    </tr>\n",
              "  </tbody>\n",
              "</table>\n",
              "</div>"
            ],
            "text/plain": [
              "       Stock Name                        SYMBOL    \n",
              "0  ACC LIMITED                           ACC       \n",
              "1  ADANI PORT & SEZ LTD                  ADANIPORTS\n",
              "2  ADANI ENTERPRISES LIMITED             ADANIENT  \n",
              "3  ADANI POWER LTD                       ADANIPOWER\n",
              "4  AMBUJA CEMENTS LTD                    AMBUJACEM "
            ]
          },
          "metadata": {},
          "execution_count": 2
        }
      ]
    },
    {
      "cell_type": "code",
      "metadata": {
        "id": "GvAwLk8yQKGc"
      },
      "source": [
        "Symbols = data['SYMBOL    '].to_list()"
      ],
      "execution_count": 3,
      "outputs": []
    },
    {
      "cell_type": "code",
      "metadata": {
        "colab": {
          "base_uri": "https://localhost:8080/"
        },
        "id": "lnqnfTaxR4x2",
        "outputId": "0406215e-cb24-46bc-9d85-f1806af8e31b"
      },
      "source": [
        "Symbols[:10]"
      ],
      "execution_count": 4,
      "outputs": [
        {
          "output_type": "execute_result",
          "data": {
            "text/plain": [
              "['ACC       ',\n",
              " 'ADANIPORTS',\n",
              " 'ADANIENT  ',\n",
              " 'ADANIPOWER',\n",
              " 'AMBUJACEM ',\n",
              " 'APOLLOHOSP',\n",
              " 'ARVIND    ',\n",
              " 'ASIANPAINT',\n",
              " 'AUROPHARMA',\n",
              " 'BAJFINANCE']"
            ]
          },
          "metadata": {},
          "execution_count": 4
        }
      ]
    },
    {
      "cell_type": "code",
      "metadata": {
        "id": "aZnf0yRzSHCn",
        "colab": {
          "base_uri": "https://localhost:8080/"
        },
        "outputId": "9a20e785-2271-4194-83a8-7ac22f9fe1ca"
      },
      "source": [
        "data = yf.download(Symbols,'2021-7-6','2021-10-6')['Adj Close']"
      ],
      "execution_count": 11,
      "outputs": [
        {
          "output_type": "stream",
          "name": "stdout",
          "text": [
            "[*********************100%***********************]  161 of 161 completed\n",
            "\n",
            "161 Failed downloads:\n",
            "- JUSTDIAL  : No data found, symbol may be delisted\n",
            "- NCC       : No data found, symbol may be delisted\n",
            "- TATAMTRDVR: No data found, symbol may be delisted\n",
            "- MCDOWELL-N: No data found, symbol may be delisted\n",
            "- BHEL      : No data found, symbol may be delisted\n",
            "- CADILAHC  : No data found, symbol may be delisted\n",
            "- NTPC      : No data found, symbol may be delisted\n",
            "- MFSL      : No data found, symbol may be delisted\n",
            "- GLENMARK  : No data found, symbol may be delisted\n",
            "- ASHOKLEY  : No data found, symbol may be delisted\n",
            "- SRF       : No data found, symbol may be delisted\n",
            "- SAIL      : No data found, symbol may be delisted\n",
            "- TATAELXSI : No data found, symbol may be delisted\n",
            "- UNIONBANK : No data found, symbol may be delisted\n",
            "- PEL       : No data found, symbol may be delisted\n",
            "- HINDPETRO : No data found, symbol may be delisted\n",
            "- CESC      : No data found, symbol may be delisted\n",
            "- UBL       : No data found, symbol may be delisted\n",
            "- TATAPOWER : No data found, symbol may be delisted\n",
            "- GODREJCP  : No data found, symbol may be delisted\n",
            "- IDBI      : No data found, symbol may be delisted\n",
            "- TVSMOTOR  : No data found, symbol may be delisted\n",
            "- JUBLFOOD  : No data found, symbol may be delisted\n",
            "- AUROPHARMA: No data found, symbol may be delisted\n",
            "- EXIDEIND  : No data found, symbol may be delisted\n",
            "- BERGEPAINT: No data found, symbol may be delisted\n",
            "- BEL       : No data found, symbol may be delisted\n",
            "- TORNTPOWER: No data found, symbol may be delisted\n",
            "- LICHSGFIN : No data found, symbol may be delisted\n",
            "- PAGEIND   : No data found, symbol may be delisted\n",
            "- ITC       : No data found, symbol may be delisted\n",
            "- SUNTV     : No data found, symbol may be delisted\n",
            "- M&M       : No data found, symbol may be delisted\n",
            "- IGL       : No data found, symbol may be delisted\n",
            "- PETRONET  : No data found, symbol may be delisted\n",
            "- ULTRACEMCO: No data found, symbol may be delisted\n",
            "- SIEMENS   : No data found, symbol may be delisted\n",
            "- AXISBANK  : No data found, symbol may be delisted\n",
            "- MARICO    : No data found, symbol may be delisted\n",
            "- NBCC      : No data found, symbol may be delisted\n",
            "- TATAGLOBAL: No data found, symbol may be delisted\n",
            "- ONGC      : No data found, symbol may be delisted\n",
            "- ENGINERSIN: No data found, symbol may be delisted\n",
            "- STAR      : No data found, symbol may be delisted\n",
            "- HINDALCO  : No data found, symbol may be delisted\n",
            "- EICHERMOT : No data found, symbol may be delisted\n",
            "- BIOCON    : No data found, symbol may be delisted\n",
            "- TITAN     : No data found, symbol may be delisted\n",
            "- IBULHSGFIN: No data found, symbol may be delisted\n",
            "- TECHM     : No data found, symbol may be delisted\n",
            "- HCLTECH   : No data found, symbol may be delisted\n",
            "- CUMMINSIND: No data found, symbol may be delisted\n",
            "- BALKRISIND: No data found, symbol may be delisted\n",
            "- WIPRO     : No data found, symbol may be delisted\n",
            "- PVR       : No data found, symbol may be delisted\n",
            "- ADANIENT  : No data found, symbol may be delisted\n",
            "- CANBK     : No data found, symbol may be delisted\n",
            "- DIVISLAB  : No data found, symbol may be delisted\n",
            "- DLF       : No data found, symbol may be delisted\n",
            "- ADANIPORTS: No data found, symbol may be delisted\n",
            "- HEXAWARE  : No data found, symbol may be delisted\n",
            "- M&MFIN    : No data found, symbol may be delisted\n",
            "- OIL       : No data found, symbol may be delisted\n",
            "- GMRINFRA  : No data found, symbol may be delisted\n",
            "- JINDALSTEL: No data found, symbol may be delisted\n",
            "- ESCORTS   : No data found, symbol may be delisted\n",
            "- BATAINDIA : No data found, symbol may be delisted\n",
            "- IOC       : No data found, symbol may be delisted\n",
            "- APOLLOTYRE: No data found, symbol may be delisted\n",
            "- NATIONALUM: No data found, symbol may be delisted\n",
            "- SUNPHARMA : No data found, symbol may be delisted\n",
            "- IDEA      : No data found, symbol may be delisted\n",
            "- IDFCFIRSTB: No data found, symbol may be delisted\n",
            "- VOLTAS    : No data found, symbol may be delisted\n",
            "- OFSS      : No data found, symbol may be delisted\n",
            "- UJJIVAN   : No data found, symbol may be delisted\n",
            "- GRASIM    : No data found, symbol may be delisted\n",
            "- BPCL      : No data found, symbol may be delisted\n",
            "- ARVIND    : No data found, symbol may be delisted\n",
            "- CIPLA     : No data found, symbol may be delisted\n",
            "- TATAMOTORS: No data found, symbol may be delisted\n",
            "- MOTHERSUMI: No data found, symbol may be delisted\n",
            "- ICICIPRULI: No data found, symbol may be delisted\n",
            "- PNB       : No data found, symbol may be delisted\n",
            "- BANKBARODA: No data found, symbol may be delisted\n",
            "- SRTRANSFIN: No data found, symbol may be delisted\n",
            "- FEDERALBNK: No data found, symbol may be delisted\n",
            "- BAJAJ-AUTO: No data found, symbol may be delisted\n",
            "- ASIANPAINT: No data found, symbol may be delisted\n",
            "- INDIGO    : No data found, symbol may be delisted\n",
            "- ICICIBANK : No data found, symbol may be delisted\n",
            "- TCS       : No data found, symbol may be delisted\n",
            "- RECLTD    : No data found, symbol may be delisted\n",
            "- APOLLOHOSP: No data found, symbol may be delisted\n",
            "- UPL       : No data found, symbol may be delisted\n",
            "- SHREECEM  : No data found, symbol may be delisted\n",
            "- TATASTEEL : No data found, symbol may be delisted\n",
            "- TATACHEM  : No data found, symbol may be delisted\n",
            "- GAIL      : No data found, symbol may be delisted\n",
            "- HEROMOTOCO: No data found, symbol may be delisted\n",
            "- KOTAKBANK : No data found, symbol may be delisted\n",
            "- RELINFRA  : No data found, symbol may be delisted\n",
            "- BANKINDIA : No data found, symbol may be delisted\n",
            "- RELIANCE  : No data found, symbol may be delisted\n",
            "- BRITANNIA : No data found, symbol may be delisted\n",
            "- ZEEL      : No data found, symbol may be delisted\n",
            "- BAJAJFINSV: No data found, symbol may be delisted\n",
            "- EQUITAS   : No data found, symbol may be delisted\n",
            "- PFC       : No data found, symbol may be delisted\n",
            "- NIITTECH  : No data found, symbol may be delisted\n",
            "- BSOFT     : No data found, symbol may be delisted\n",
            "- MGL       : No data found, symbol may be delisted\n",
            "- MARUTI    : No data found, symbol may be delisted\n",
            "- COLPAL    : No data found, symbol may be delisted\n",
            "- DHFL      : No data found, symbol may be delisted\n",
            "- HAVELLS   : No data found, symbol may be delisted\n",
            "- RELCAPITAL: No data found, symbol may be delisted\n",
            "- CHOLAFIN  : No data found, symbol may be delisted\n",
            "- AMARAJABAT: No data found, symbol may be delisted\n",
            "- DRREDDY   : No data found, symbol may be delisted\n",
            "- NMDC      : No data found, symbol may be delisted\n",
            "- NESTLEIND : No data found, symbol may be delisted\n",
            "- MUTHOOTFIN: No data found, symbol may be delisted\n",
            "- HDFC      : No data found, symbol may be delisted\n",
            "- HDFCBANK  : No data found, symbol may be delisted\n",
            "- PIDILITIND: No data found, symbol may be delisted\n",
            "- JSWSTEEL  : No data found, symbol may be delisted\n",
            "- L&TFH     : No data found, symbol may be delisted\n",
            "- SBIN      : No data found, symbol may be delisted\n",
            "- RAYMOND   : No data found, symbol may be delisted\n",
            "- MANAPPURAM: No data found, symbol may be delisted\n",
            "- BHARATFORG: No data found, symbol may be delisted\n",
            "- AMBUJACEM : No data found, symbol may be delisted\n",
            "- VEDL      : No data found, symbol may be delisted\n",
            "- INDUSINDBK: No data found, symbol may be delisted\n",
            "- ADANIPOWER: No data found, symbol may be delisted\n",
            "- MRF       : No data found, symbol may be delisted\n",
            "- BAJFINANCE: No data found, symbol may be delisted\n",
            "- DISHTV    : No data found, symbol may be delisted\n",
            "- CONCOR    : No data found, symbol may be delisted\n",
            "- YESBANK   : No data found, symbol may be delisted\n",
            "- KAJARIACER: No data found, symbol may be delisted\n",
            "- MCX       : No data found, symbol may be delisted\n",
            "- MINDTREE  : No data found, symbol may be delisted\n",
            "- DABUR     : No data found, symbol may be delisted\n",
            "- COALINDIA : No data found, symbol may be delisted\n",
            "- BOSCHLTD  : No data found, symbol may be delisted\n",
            "- HINDZINC  : No data found, symbol may be delisted\n",
            "- BHARTIARTL: No data found, symbol may be delisted\n",
            "- LUPIN     : No data found, symbol may be delisted\n",
            "- HINDUNILVR: No data found, symbol may be delisted\n",
            "- POWERGRID : No data found, symbol may be delisted\n",
            "- RBLBANK   : No data found, symbol may be delisted\n",
            "- LT        : No data found, symbol may be delisted\n",
            "- INFRATEL  : No data found, symbol may be delisted\n",
            "- CENTURYTEX: No data found, symbol may be delisted\n",
            "- INFY      : No data found, symbol may be delisted\n",
            "- RAMCOCEM  : No data found, symbol may be delisted\n",
            "- TORNTPHARM: No data found, symbol may be delisted\n",
            "- CASTROLIND: No data found, symbol may be delisted\n",
            "- ACC       : No data found, symbol may be delisted\n"
          ]
        }
      ]
    },
    {
      "cell_type": "code",
      "metadata": {
        "colab": {
          "base_uri": "https://localhost:8080/",
          "height": 146
        },
        "id": "NmAicRAYVkDZ",
        "outputId": "ee7fb21a-1a46-4151-a468-236089e78910"
      },
      "source": [
        "data.head()"
      ],
      "execution_count": 7,
      "outputs": [
        {
          "output_type": "execute_result",
          "data": {
            "text/html": [
              "<div>\n",
              "<style scoped>\n",
              "    .dataframe tbody tr th:only-of-type {\n",
              "        vertical-align: middle;\n",
              "    }\n",
              "\n",
              "    .dataframe tbody tr th {\n",
              "        vertical-align: top;\n",
              "    }\n",
              "\n",
              "    .dataframe thead th {\n",
              "        text-align: right;\n",
              "    }\n",
              "</style>\n",
              "<table border=\"1\" class=\"dataframe\">\n",
              "  <thead>\n",
              "    <tr style=\"text-align: right;\">\n",
              "      <th></th>\n",
              "      <th>ACC</th>\n",
              "      <th>ADANIENT</th>\n",
              "      <th>ADANIPORTS</th>\n",
              "      <th>ADANIPOWER</th>\n",
              "      <th>AMARAJABAT</th>\n",
              "      <th>AMBUJACEM</th>\n",
              "      <th>APOLLOHOSP</th>\n",
              "      <th>APOLLOTYRE</th>\n",
              "      <th>ARVIND</th>\n",
              "      <th>ASHOKLEY</th>\n",
              "      <th>ASIANPAINT</th>\n",
              "      <th>AUROPHARMA</th>\n",
              "      <th>AXISBANK</th>\n",
              "      <th>BAJAJ-AUTO</th>\n",
              "      <th>BAJAJFINSV</th>\n",
              "      <th>BAJFINANCE</th>\n",
              "      <th>BALKRISIND</th>\n",
              "      <th>BANKBARODA</th>\n",
              "      <th>BANKINDIA</th>\n",
              "      <th>BATAINDIA</th>\n",
              "      <th>BEL</th>\n",
              "      <th>BERGEPAINT</th>\n",
              "      <th>BHARATFORG</th>\n",
              "      <th>BHARTIARTL</th>\n",
              "      <th>BHEL</th>\n",
              "      <th>BIOCON</th>\n",
              "      <th>BOSCHLTD</th>\n",
              "      <th>BPCL</th>\n",
              "      <th>BRITANNIA</th>\n",
              "      <th>BSOFT</th>\n",
              "      <th>CADILAHC</th>\n",
              "      <th>CANBK</th>\n",
              "      <th>CASTROLIND</th>\n",
              "      <th>CENTURYTEX</th>\n",
              "      <th>CESC</th>\n",
              "      <th>CHOLAFIN</th>\n",
              "      <th>CIPLA</th>\n",
              "      <th>COALINDIA</th>\n",
              "      <th>COLPAL</th>\n",
              "      <th>CONCOR</th>\n",
              "      <th>...</th>\n",
              "      <th>PVR</th>\n",
              "      <th>RAMCOCEM</th>\n",
              "      <th>RAYMOND</th>\n",
              "      <th>RBLBANK</th>\n",
              "      <th>RECLTD</th>\n",
              "      <th>RELCAPITAL</th>\n",
              "      <th>RELIANCE</th>\n",
              "      <th>RELINFRA</th>\n",
              "      <th>SAIL</th>\n",
              "      <th>SBIN</th>\n",
              "      <th>SHREECEM</th>\n",
              "      <th>SIEMENS</th>\n",
              "      <th>SRF</th>\n",
              "      <th>SRTRANSFIN</th>\n",
              "      <th>STAR</th>\n",
              "      <th>SUNPHARMA</th>\n",
              "      <th>SUNTV</th>\n",
              "      <th>TATACHEM</th>\n",
              "      <th>TATAELXSI</th>\n",
              "      <th>TATAGLOBAL</th>\n",
              "      <th>TATAMOTORS</th>\n",
              "      <th>TATAMTRDVR</th>\n",
              "      <th>TATAPOWER</th>\n",
              "      <th>TATASTEEL</th>\n",
              "      <th>TCS</th>\n",
              "      <th>TECHM</th>\n",
              "      <th>TITAN</th>\n",
              "      <th>TORNTPHARM</th>\n",
              "      <th>TORNTPOWER</th>\n",
              "      <th>TVSMOTOR</th>\n",
              "      <th>UBL</th>\n",
              "      <th>UJJIVAN</th>\n",
              "      <th>ULTRACEMCO</th>\n",
              "      <th>UNIONBANK</th>\n",
              "      <th>UPL</th>\n",
              "      <th>VEDL</th>\n",
              "      <th>VOLTAS</th>\n",
              "      <th>WIPRO</th>\n",
              "      <th>YESBANK</th>\n",
              "      <th>ZEEL</th>\n",
              "    </tr>\n",
              "    <tr>\n",
              "      <th>Date</th>\n",
              "      <th></th>\n",
              "      <th></th>\n",
              "      <th></th>\n",
              "      <th></th>\n",
              "      <th></th>\n",
              "      <th></th>\n",
              "      <th></th>\n",
              "      <th></th>\n",
              "      <th></th>\n",
              "      <th></th>\n",
              "      <th></th>\n",
              "      <th></th>\n",
              "      <th></th>\n",
              "      <th></th>\n",
              "      <th></th>\n",
              "      <th></th>\n",
              "      <th></th>\n",
              "      <th></th>\n",
              "      <th></th>\n",
              "      <th></th>\n",
              "      <th></th>\n",
              "      <th></th>\n",
              "      <th></th>\n",
              "      <th></th>\n",
              "      <th></th>\n",
              "      <th></th>\n",
              "      <th></th>\n",
              "      <th></th>\n",
              "      <th></th>\n",
              "      <th></th>\n",
              "      <th></th>\n",
              "      <th></th>\n",
              "      <th></th>\n",
              "      <th></th>\n",
              "      <th></th>\n",
              "      <th></th>\n",
              "      <th></th>\n",
              "      <th></th>\n",
              "      <th></th>\n",
              "      <th></th>\n",
              "      <th></th>\n",
              "      <th></th>\n",
              "      <th></th>\n",
              "      <th></th>\n",
              "      <th></th>\n",
              "      <th></th>\n",
              "      <th></th>\n",
              "      <th></th>\n",
              "      <th></th>\n",
              "      <th></th>\n",
              "      <th></th>\n",
              "      <th></th>\n",
              "      <th></th>\n",
              "      <th></th>\n",
              "      <th></th>\n",
              "      <th></th>\n",
              "      <th></th>\n",
              "      <th></th>\n",
              "      <th></th>\n",
              "      <th></th>\n",
              "      <th></th>\n",
              "      <th></th>\n",
              "      <th></th>\n",
              "      <th></th>\n",
              "      <th></th>\n",
              "      <th></th>\n",
              "      <th></th>\n",
              "      <th></th>\n",
              "      <th></th>\n",
              "      <th></th>\n",
              "      <th></th>\n",
              "      <th></th>\n",
              "      <th></th>\n",
              "      <th></th>\n",
              "      <th></th>\n",
              "      <th></th>\n",
              "      <th></th>\n",
              "      <th></th>\n",
              "      <th></th>\n",
              "      <th></th>\n",
              "      <th></th>\n",
              "    </tr>\n",
              "  </thead>\n",
              "  <tbody>\n",
              "  </tbody>\n",
              "</table>\n",
              "<p>0 rows × 161 columns</p>\n",
              "</div>"
            ],
            "text/plain": [
              "Empty DataFrame\n",
              "Columns: [ACC       , ADANIENT  , ADANIPORTS, ADANIPOWER, AMARAJABAT, AMBUJACEM , APOLLOHOSP, APOLLOTYRE, ARVIND    , ASHOKLEY  , ASIANPAINT, AUROPHARMA, AXISBANK  , BAJAJ-AUTO, BAJAJFINSV, BAJFINANCE, BALKRISIND, BANKBARODA, BANKINDIA , BATAINDIA , BEL       , BERGEPAINT, BHARATFORG, BHARTIARTL, BHEL      , BIOCON    , BOSCHLTD  , BPCL      , BRITANNIA , BSOFT     , CADILAHC  , CANBK     , CASTROLIND, CENTURYTEX, CESC      , CHOLAFIN  , CIPLA     , COALINDIA , COLPAL    , CONCOR    , CUMMINSIND, DABUR     , DHFL      , DISHTV    , DIVISLAB  , DLF       , DRREDDY   , EICHERMOT , ENGINERSIN, EQUITAS   , ESCORTS   , EXIDEIND  , FEDERALBNK, GAIL      , GLENMARK  , GMRINFRA  , GODREJCP  , GRASIM    , HAVELLS   , HCLTECH   , HDFC      , HDFCBANK  , HEROMOTOCO, HEXAWARE  , HINDALCO  , HINDPETRO , HINDUNILVR, HINDZINC  , IBULHSGFIN, ICICIBANK , ICICIPRULI, IDBI      , IDEA      , IDFCFIRSTB, IGL       , INDIGO    , INDUSINDBK, INFRATEL  , INFY      , IOC       , ITC       , JINDALSTEL, JSWSTEEL  , JUBLFOOD  , JUSTDIAL  , KAJARIACER, KOTAKBANK , L&TFH     , LICHSGFIN , LT        , LUPIN     , M&M       , M&MFIN    , MANAPPURAM, MARICO    , MARUTI    , MCDOWELL-N, MCX       , MFSL      , MGL       , ...]\n",
              "Index: []\n",
              "\n",
              "[0 rows x 161 columns]"
            ]
          },
          "metadata": {},
          "execution_count": 7
        }
      ]
    },
    {
      "cell_type": "code",
      "metadata": {
        "id": "nqlEPIzthlbO",
        "colab": {
          "base_uri": "https://localhost:8080/"
        },
        "outputId": "a505b5e1-8d5b-42e0-d04c-bfd04c00c4dd"
      },
      "source": [
        "data = yf.download(\"ACC\",'2021-7-6','2021-10-6')['Adj Close']"
      ],
      "execution_count": 8,
      "outputs": [
        {
          "output_type": "stream",
          "name": "stdout",
          "text": [
            "\r[*********************100%***********************]  1 of 1 completed\n"
          ]
        }
      ]
    },
    {
      "cell_type": "code",
      "metadata": {
        "colab": {
          "base_uri": "https://localhost:8080/"
        },
        "id": "yOvqmvDIwk5E",
        "outputId": "61f3287c-a6f1-4c37-bd9b-9c8318eebff3"
      },
      "source": [
        "data"
      ],
      "execution_count": 10,
      "outputs": [
        {
          "output_type": "execute_result",
          "data": {
            "text/plain": [
              "Date\n",
              "2021-07-06    48.073746\n",
              "2021-07-07    48.390671\n",
              "2021-07-08    47.836048\n",
              "2021-07-09    48.786827\n",
              "2021-07-12    49.272121\n",
              "                ...    \n",
              "2021-09-29    50.000000\n",
              "2021-09-30    48.450001\n",
              "2021-10-01    49.310001\n",
              "2021-10-04    50.919998\n",
              "2021-10-05    50.360001\n",
              "Name: Adj Close, Length: 65, dtype: float64"
            ]
          },
          "metadata": {},
          "execution_count": 10
        }
      ]
    },
    {
      "cell_type": "code",
      "metadata": {
        "id": "odR-mcQHwnGL"
      },
      "source": [
        ""
      ],
      "execution_count": null,
      "outputs": []
    }
  ]
}